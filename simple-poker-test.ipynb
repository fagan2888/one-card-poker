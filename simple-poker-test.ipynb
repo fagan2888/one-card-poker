{
 "cells": [
  {
   "cell_type": "code",
   "execution_count": 1,
   "metadata": {},
   "outputs": [],
   "source": [
    "from simple_poker import Game, Player, HumanPlayer\n",
    "from kevin import KevinModel"
   ]
  },
  {
   "cell_type": "code",
   "execution_count": 2,
   "metadata": {},
   "outputs": [],
   "source": [
    "kevin = KevinModel('Kevin', 100)\n",
    "francisco = HumanPlayer('Francisco', 100)\n",
    "g = Game(kevin, francisco)"
   ]
  },
  {
   "cell_type": "code",
   "execution_count": 10,
   "metadata": {},
   "outputs": [
    {
     "name": "stdout",
     "output_type": "stream",
     "text": [
      "\n",
      "Player: Francisco\n",
      "----------\n",
      "You're starting\n",
      "Your card: 50\n",
      "Your wealth: 98\n",
      "Pot size: 2\n",
      "Opponent bet: 0\n",
      "Raised 98\n",
      "Player Francisco all-in\n",
      "Player Kevin all-in\n",
      "\n",
      "Player: Francisco\n",
      "----------\n",
      "Your card: 50\n",
      "Your wealth: 0\n",
      "Pot size: 198\n",
      "Opponent bet: 2\n",
      "Player Francisco all-in\n",
      "Francisco's card is 50\n",
      "Kevin's card is 51\n"
     ]
    }
   ],
   "source": [
    "if g.p1.wealth <= 0 or g.p2.wealth <= 0:\n",
    "    print('New Game')\n",
    "    kevin = KevinModel('Kevin', 100)\n",
    "    francisco = HumanPlayer('Francisco', 100)\n",
    "    g = Game(kevin, francisco)\n",
    "g.play_hand(verbose=True)"
   ]
  },
  {
   "cell_type": "code",
   "execution_count": 36,
   "metadata": {},
   "outputs": [
    {
     "data": {
      "text/plain": [
       "1"
      ]
     },
     "execution_count": 36,
     "metadata": {},
     "output_type": "execute_result"
    }
   ],
   "source": [
    "g.p1.wealth"
   ]
  },
  {
   "cell_type": "code",
   "execution_count": null,
   "metadata": {},
   "outputs": [],
   "source": []
  }
 ],
 "metadata": {
  "kernelspec": {
   "display_name": "Python 3",
   "language": "python",
   "name": "python3"
  },
  "language_info": {
   "codemirror_mode": {
    "name": "ipython",
    "version": 3
   },
   "file_extension": ".py",
   "mimetype": "text/x-python",
   "name": "python",
   "nbconvert_exporter": "python",
   "pygments_lexer": "ipython3",
   "version": "3.6.3"
  }
 },
 "nbformat": 4,
 "nbformat_minor": 2
}
